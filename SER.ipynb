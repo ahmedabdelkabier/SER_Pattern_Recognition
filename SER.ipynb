{
  "cells": [
    {
      "cell_type": "code",
      "execution_count": 115,
      "metadata": {
        "id": "xfJ6Wo-1Keq1"
      },
      "outputs": [],
      "source": [
        "from pathlib import Path\n",
        "import os.path\n",
        "import pandas as pd\n",
        "import matplotlib.pyplot as plt\n",
        "import librosa as lib\n",
        "import librosa.display\n",
        "import IPython.display\n",
        "import soundfile\n",
        "import numpy as np"
      ]
    },
    {
      "cell_type": "code",
      "source": [
        "from google.colab import drive\n",
        "drive.mount('/content/drive')"
      ],
      "metadata": {
        "colab": {
          "base_uri": "https://localhost:8080/"
        },
        "id": "8s1XhesQQuAC",
        "outputId": "a0e65e68-49ea-4734-9b3b-70be3ce69c01"
      },
      "execution_count": 15,
      "outputs": [
        {
          "output_type": "stream",
          "name": "stdout",
          "text": [
            "Drive already mounted at /content/drive; to attempt to forcibly remount, call drive.mount(\"/content/drive\", force_remount=True).\n"
          ]
        }
      ]
    },
    {
      "cell_type": "markdown",
      "metadata": {
        "id": "jBBtm2sWKeq6"
      },
      "source": [
        "# 1) Work with data\n"
      ]
    },
    {
      "cell_type": "markdown",
      "metadata": {
        "id": "Lsafk0qrKeq8"
      },
      "source": [
        "create set of emo."
      ]
    },
    {
      "cell_type": "code",
      "execution_count": 32,
      "metadata": {
        "colab": {
          "base_uri": "https://localhost:8080/"
        },
        "id": "o3Wss0QlKeq8",
        "outputId": "fd04404f-34d6-4741-b7ba-e1172958faf7"
      },
      "outputs": [
        {
          "output_type": "execute_result",
          "data": {
            "text/plain": [
              "{'ANG', 'DIS', 'FEA', 'HAP', 'NEU', 'SAD'}"
            ]
          },
          "metadata": {},
          "execution_count": 32
        }
      ],
      "source": [
        "PATH = Path('/content/drive/MyDrive/Crema')\n",
        "filespath = list(PATH.glob(r'**/*.wav'))\n",
        "emo_labels = list(map(lambda x: os.path.split(x)[1].split('_')[2], filespath))\n",
        "set(emo_labels)"
      ]
    },
    {
      "cell_type": "markdown",
      "metadata": {
        "id": "xUomaXQHKeq-"
      },
      "source": [
        "create dataframe of wav files paths and labels\n"
      ]
    },
    {
      "cell_type": "code",
      "execution_count": 52,
      "metadata": {
        "id": "iPhGpy4-Keq-"
      },
      "outputs": [],
      "source": [
        "audio_features = []\n",
        "files_path = pd.Series(filespath , name='.wav_path').astype(str)\n",
        "labels = pd.Series(emo_labels , name='labels')\n",
        "\n",
        "for audios in files_path:\n",
        "    audio , sample_rate = lib.load(audios)\n",
        "    audio_features.append(audio)\n",
        "\n",
        "audio_features = pd.Series(audio_features , name='features')\n",
        "data = pd.concat([files_path,audio_features,labels] , axis=1)"
      ]
    },
    {
      "cell_type": "markdown",
      "source": [
        "Play audio and plot wave for each class\n"
      ],
      "metadata": {
        "id": "xv8kWJqKxIDD"
      }
    },
    {
      "cell_type": "code",
      "source": [
        "import IPython\n",
        "def play_and_plot():\n",
        "  sad_audios = data[data['labels'] == 'SAD']['.wav_path']\n",
        "  sad_feature =  data[data['labels'] == 'SAD']['features']\n",
        "  librosa.display.waveplot(sad_feature.iloc[0])\n",
        "  IPython.display.Audio(sad_audios.iloc[0])\n",
        "\n",
        "  happy_audios = data[data['labels'] == 'HAP']['.wav_path']\n",
        "  happy_featire = data[data['labels'] == 'HAP']['features']\n",
        "  librosa.display.waveplot(happy_featire.iloc[0])\n",
        "  IPython.display.Audio(happy_audios.iloc[0])\n",
        "\n",
        "  angry_audios = data[data['labels'] == 'ANG']['.wav_path']\n",
        "  angry_feature = data[data['labels'] == 'ANG']['features']\n",
        "  librosa.display.waveplot(angry_feature.iloc[0])\n",
        "  IPython.display.Audio(angry_audios.iloc[0])\n",
        "\n",
        "\n",
        "  neutral_audios = data[data['labels'] == 'NEU']['.wav_path']\n",
        "  neutral_feature = data[data['labels'] == 'NEU']['features']\n",
        "  librosa.display.waveplot(neutral_feature.iloc[0])\n",
        "  IPython.display.Audio(neutral_audios.iloc[0])\n",
        "\n",
        "\n",
        "  fear_audios = data[data['labels'] == 'FEA']['.wav_path']\n",
        "  fear_feature = data[data['labels'] == 'FEA']['features']\n",
        "  librosa.display.waveplot(fear_feature.iloc[0])\n",
        "  IPython.display.Audio(fear_audios.iloc[0])\n",
        "\n",
        "\n",
        "  dis_audios = data[data['labels'] == 'DIS']['.wav_path']\n",
        "  dis_feature = data[data['labels'] == 'DIS']['features']\n",
        "  librosa.display.waveplot(dis_feature.iloc[0])\n",
        "  IPython.display.Audio(dis_audios.iloc[0])\n"
      ],
      "metadata": {
        "id": "N6iHL0XxxV8c"
      },
      "execution_count": 127,
      "outputs": []
    },
    {
      "cell_type": "code",
      "source": [
        "play_and_plot()"
      ],
      "metadata": {
        "colab": {
          "base_uri": "https://localhost:8080/",
          "height": 279
        },
        "id": "IFm88JKjx-UY",
        "outputId": "6bb36569-fe97-4b2f-9349-e8466d4d8cf3"
      },
      "execution_count": 128,
      "outputs": [
        {
          "output_type": "display_data",
          "data": {
            "text/plain": [
              "<Figure size 432x288 with 1 Axes>"
            ],
            "image/png": "[encoded data removed]"
          },
          "metadata": {
            "needs_background": "light"
          }
        }
      ]
    }
  ],
  "metadata": {
    "interpreter": {
      "hash": "8ee41aa08ffe68c3483aa3560bbe90ba8dafc7a90596183c42124ed39e0876c3"
    },
    "kernelspec": {
      "display_name": "Python 3.9.7 ('base')",
      "language": "python",
      "name": "python3"
    },
    "language_info": {
      "codemirror_mode": {
        "name": "ipython",
        "version": 3
      },
      "file_extension": ".py",
      "mimetype": "text/x-python",
      "name": "python",
      "nbconvert_exporter": "python",
      "pygments_lexer": "ipython3",
      "version": "3.9.7"
    },
    "orig_nbformat": 4,
    "colab": {
      "name": "SER.ipynb",
      "provenance": [],
      "toc_visible": true
    }
  },
  "nbformat": 4,
  "nbformat_minor": 0
}